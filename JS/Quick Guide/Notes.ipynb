{
 "cells": [
  {
   "cell_type": "markdown",
   "metadata": {},
   "source": [
    "# Operators"
   ]
  },
  {
   "cell_type": "markdown",
   "metadata": {},
   "source": [
    "#### << left shift operator\n",
    "##### Converts decimal to binary performs left shift and convert back the left shifted binary to decimal"
   ]
  },
  {
   "cell_type": "markdown",
   "metadata": {},
   "source": [
    "#### >> right shift operator\n",
    "##### Converts decimal to binary performs right shift and convert back the right shifted binary to decimal"
   ]
  },
  {
   "cell_type": "markdown",
   "metadata": {},
   "source": [
    "#### >>> unsigned right shift operator\n",
    "##### Converts decimal to binary performs circular right shift and convert back the circular right shifted binary to decimal"
   ]
  },
  {
   "cell_type": "markdown",
   "metadata": {},
   "source": [
    "X ^ 5 in JS can be computed as Math.pow(x, 5)"
   ]
  },
  {
   "cell_type": "markdown",
   "metadata": {},
   "source": [
    "## Objects"
   ]
  },
  {
   "cell_type": "markdown",
   "metadata": {},
   "source": [
    "// Create an Object\n",
    "const person = { \n",
    "  firstName: \"John\",\n",
    "  lastName: \"Doe\",\n",
    "  age: 50,\n",
    "  eyeColor: \"blue\"\n",
    "};\n",
    "\n",
    "\n",
    "# Another way\n",
    "\n",
    "// Create an Object\n",
    "const person = {};\n",
    "\n",
    "// Add Properties\n",
    "person.firstName = \"John\";\n",
    "person.lastName = \"Doe\";\n",
    "person.age = 50;\n",
    "person.eyeColor = \"blue\";\n",
    "\n",
    "# Another way\n",
    "\n",
    "// Create an Object\n",
    "const person = new Object();\n",
    "\n",
    "// Add Properties\n",
    "person.firstName = \"John\";\n",
    "person.lastName = \"Doe\";\n",
    "person.age = 50;\n",
    "person.eyeColor = \"blue\";"
   ]
  },
  {
   "cell_type": "markdown",
   "metadata": {},
   "source": [
    "##### JS Objects are mutable means they are addressed by reference, not by value"
   ]
  },
  {
   "cell_type": "markdown",
   "metadata": {},
   "source": [
    "### Object Properties"
   ]
  },
  {
   "cell_type": "markdown",
   "metadata": {},
   "source": [
    "access object values by\n",
    "\n",
    "// objectName.property\n",
    "let age = person.age;\n",
    "\n",
    "//objectName[\"property\"]\n",
    "let age = person[\"age\"];"
   ]
  },
  {
   "cell_type": "markdown",
   "metadata": {},
   "source": [
    "add new properties by:\n",
    "\n",
    "object.newProperty = value;\n",
    "\n",
    "i.e. :\n",
    "person.nationality = \"English\";"
   ]
  },
  {
   "cell_type": "markdown",
   "metadata": {},
   "source": [
    "#### Delete Property by delete keyword:\n",
    "\n",
    "delete person.age;\n",
    "\n",
    "or \n",
    "\n",
    "delete person[\"age\"];\n"
   ]
  },
  {
   "cell_type": "markdown",
   "metadata": {},
   "source": [
    "#### Object methods\n",
    "\n",
    "object.function_name();"
   ]
  },
  {
   "cell_type": "markdown",
   "metadata": {},
   "source": [
    "#### Display JS objects\n",
    "\n",
    "Some solutions to display JavaScript objects are:\n",
    "\n",
    "- Displaying the Object Properties by name\n",
    "- Displaying the Object Properties in a Loop\n",
    "- Displaying the Object using Object.values()\n",
    "- Displaying the Object using JSON.stringify()"
   ]
  },
  {
   "cell_type": "markdown",
   "metadata": {},
   "source": [
    "#### Object to array by inbuilt method values().\n",
    "\n",
    "usage: object.values(object_name)"
   ]
  },
  {
   "cell_type": "markdown",
   "metadata": {},
   "source": [
    "#### object in loops:\n",
    "\n",
    "const fruits = {Bananas:300, Oranges:200, Apples:500};\n",
    "\n",
    "let text = \"\";\n",
    "for (let [fruit, value] of Object.entries(fruits)) {\n",
    "  text += fruit + \": \" + value + \"<br>\";\n",
    "}\n",
    "\n",
    "returns: \"Bananas:300, Oranges:200, Apples:500\""
   ]
  },
  {
   "cell_type": "markdown",
   "metadata": {},
   "source": [
    "JSON.stringify(object_name) will give the json output of the object."
   ]
  },
  {
   "cell_type": "markdown",
   "metadata": {},
   "source": [
    "in constructure set default values of an object.\n",
    "\n",
    "function Person(first, last, age, eyecolor) {\n",
    "  this.firstName = first;\n",
    "  this.lastName = last;\n",
    "  this.age = age;\n",
    "  this.eyeColor = eyecolor;\n",
    "  this.nationality = \"English\";\n",
    "}\n",
    "\n",
    "so in below code when you try to get the myFather.nationality which isnt set while declaring the object myFather, So it will get/set the default value for that property:\n",
    "\n",
    "const myFather = new Person(\"John\", \"Doe\", 50, \"blue\");\n",
    "\n"
   ]
  },
  {
   "cell_type": "markdown",
   "metadata": {},
   "source": [
    "In constructure you cannot add properrty directly:\n",
    "\n",
    "use following code:\n",
    "\n",
    "object_name.prototype.property_name = \"English\";"
   ]
  },
  {
   "cell_type": "markdown",
   "metadata": {},
   "source": [
    "- Comparing any two objects in js always returns false (ig because of address by reference)"
   ]
  },
  {
   "cell_type": "markdown",
   "metadata": {},
   "source": [
    "## String methods\n",
    "\n",
    "string.slice(var1): \n",
    "- let text = \"Apple, Banana, Kiwi\";\n",
    "- let part = text.slice(7)\n",
    "- part = Banana, Kiwi (in short 7 to last)\n",
    "\n",
    "string.slice(var1, var2): \n",
    "- let text = \"Apple, Banana, Kiwi\";\n",
    "- let part = text.slice(7, 13)\n",
    "- part = Banana (in short 7 to 13)\n",
    "\n",
    "in string.slice(var1):\n",
    "\n",
    "- if the var1 is -ve then it starts counting from last index (in short right to left).\n",
    "- if var1 = 0 it will return A and vat1 = -1 will return i\n"
   ]
  },
  {
   "cell_type": "markdown",
   "metadata": {},
   "source": [
    "### String Method substr:\n",
    "\n",
    "string.substr(var1):\n",
    "- text.substr(7)\n",
    "- = Banana, Kiwi\n",
    "\n",
    "string.slice(var1, var2): \n",
    "- let text = \"Apple, Banana, Kiwi\";\n",
    "- let part = text.slice(7, 6)\n",
    "- part = Banana (in short 7 to next 6 characters)\n",
    "\n",
    "in string.slice(var1):\n",
    "\n",
    "- if the var1 is -ve then it starts counting from last index (in short right to left).\n",
    "- if var1 = -4 it will return Kiwi (0 to -4 index)\n"
   ]
  },
  {
   "cell_type": "markdown",
   "metadata": {},
   "source": []
  }
 ],
 "metadata": {
  "kernelspec": {
   "display_name": "Python 3",
   "language": "python",
   "name": "python3"
  },
  "language_info": {
   "codemirror_mode": {
    "name": "ipython",
    "version": 3
   },
   "file_extension": ".py",
   "mimetype": "text/x-python",
   "name": "python",
   "nbconvert_exporter": "python",
   "pygments_lexer": "ipython3",
   "version": "3.11.4"
  }
 },
 "nbformat": 4,
 "nbformat_minor": 2
}
